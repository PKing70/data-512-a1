{
 "cells": [
  {
   "cell_type": "markdown",
   "metadata": {},
   "source": [
    "# A1 Data Curation\n",
    "\n",
    "This notebook covers the acquisition, processing, graphic analysis, and dataset publishing of Wikipedia site traffic. The goal is that this work follows best practices of open scientific reasearch to be fully reproducible and well-documented. Others should be able to follow, and expand upon this work easily.\n",
    "\n",
    "## Initialization\n",
    "\n",
    "This code brings in the library dependencies to be used by subsequent code.\n"
   ]
  },
  {
   "cell_type": "code",
   "execution_count": 344,
   "metadata": {},
   "outputs": [],
   "source": [
    "import json                       # For API response handling\n",
    "import requests                   # For API call handling\n",
    "import pandas                     # For dataframes\n",
    "import matplotlib.pyplot as plt   # For plotting"
   ]
  },
  {
   "cell_type": "markdown",
   "metadata": {},
   "source": [
    "## Data acquisition\n",
    "\n",
    "Using Wikimedia's RESTful APIs, we can obtain site traffic data. The [Pagecounts](https://wikitech.wikimedia.org/wiki/Analytics/AQS/Legacy_Pagecounts) API was originally provided from years 2008 to 2016, while the [Pageviews](https://wikitech.wikimedia.org/wiki/Analytics/AQS/Pageviews) API superceded it starting in 2015 to today. To produce site data from 2008 to the latest available information in 2018, the data returned from both APIs will be combined.\n",
    "\n",
    "First, define the endpoint paths to both APIs:"
   ]
  },
  {
   "cell_type": "code",
   "execution_count": 345,
   "metadata": {},
   "outputs": [],
   "source": [
    "pagecounts = 'https://wikimedia.org/api/rest_v1/metrics/legacy/pagecounts/aggregate/{project}/{access-site}/\\\n",
    "{granularity}/{start}/{end}'\n",
    "\n",
    "pageviews = 'https://wikimedia.org/api/rest_v1/metrics/pageviews/aggregate/{project}/{access}/{agent}/\\\n",
    "{granularity}/{start}/{end}'"
   ]
  },
  {
   "cell_type": "markdown",
   "metadata": {},
   "source": [
    "Define personal information headers:"
   ]
  },
  {
   "cell_type": "code",
   "execution_count": 346,
   "metadata": {},
   "outputs": [],
   "source": [
    "headers = {'User-Agent' : 'https://github.com/PK#ing70',\n",
    "           'From'       : 'PKing70@uw.edu'\n",
    "          }"
   ]
  },
  {
   "cell_type": "markdown",
   "metadata": {},
   "source": [
    "Define the parameters for pagecounts, call the API, and store the JSON response:"
   ]
  },
  {
   "cell_type": "code",
   "execution_count": 347,
   "metadata": {},
   "outputs": [],
   "source": [
    "params_pagecounts = {'project'     : 'en.wikipedia.org',\n",
    "                     'access-site' : 'desktop-site',\n",
    "                     'granularity' : 'monthly',\n",
    "                     'start'       : '2001010100',\n",
    "                     'end'         : '2016073100' # Pagecounts returns data until the end of July, 2016\n",
    "                    }\n",
    "\n",
    "call_pagecounts_d = requests.get(pagecounts.format(**params_pagecounts), headers = headers)\n",
    "response_pagecounts_d = call_pagecounts_d.json()  # Desktop-site data\n",
    "\n",
    "params_pagecounts[\"access-site\"] = \"mobile-site\"\n",
    "call_pagecounts_m = requests.get(pagecounts.format(**params_pagecounts), headers = headers)\n",
    "response_pagecounts_m = call_pagecounts_m.json()  # Mobile-site data"
   ]
  },
  {
   "cell_type": "markdown",
   "metadata": {},
   "source": [
    "Define the parameters for Pageviews, call the API, and store the JSON responses."
   ]
  },
  {
   "cell_type": "code",
   "execution_count": 348,
   "metadata": {},
   "outputs": [],
   "source": [
    "params_pageviews =  {\"project\"     : \"en.wikipedia.org\",\n",
    "                     \"access\"      : \"desktop\",\n",
    "                     \"agent\"       : \"user\",\n",
    "                     \"granularity\" : \"monthly\",\n",
    "                     \"start\"       : \"2001010100\",\n",
    "                     \"end\"         : \"2018101800\" # Pagecounts returns data until today\n",
    "                    }\n",
    "\n",
    "call_pageviews_d = requests.get(pageviews.format(**params_pageviews), headers = headers)\n",
    "response_pageviews_d = call_pageviews_d.json()    # Desktop data\n",
    "\n",
    "params_pageviews[\"access\"] = \"mobile-app\"\n",
    "call_pageviews_ma = requests.get(pageviews.format(**params_pageviews), headers = headers)\n",
    "response_pageviews_ma = call_pageviews_ma.json()  # Mobile app data\n",
    "\n",
    "params_pageviews[\"access\"] = \"mobile-web\"\n",
    "call_pageviews_mw = requests.get(pageviews.format(**params_pageviews), headers = headers)\n",
    "response_pageviews_mw = call_pageviews_mw.json()  # Mobile web browser data"
   ]
  },
  {
   "cell_type": "markdown",
   "metadata": {},
   "source": [
    "Store the raw results of each API call into a separate file:"
   ]
  },
  {
   "cell_type": "code",
   "execution_count": 349,
   "metadata": {},
   "outputs": [],
   "source": [
    "filename = 'pagecounts_desktop-site_200807-201607.json' # Desktop Pagecount JSON file\n",
    "with open(filename, 'w') as file:\n",
    "    json.dump(response_pagecounts_d, file)\n",
    "    \n",
    "filename = 'pagecounts_mobile-site_200807-201607.json' # Mobile Pagecount JSON file\n",
    "with open(filename, 'w') as file:\n",
    "    json.dump(response_pagecounts_m, file)\n",
    "    \n",
    "filename = 'pageviews_desktop_200807-201809.json'  # Desktop Pageview JSON file\n",
    "with open(filename, 'w') as file:\n",
    "    json.dump(response_pageviews_d, file)\n",
    "\n",
    "filename = 'pageviews_mobile-app_200807-201809.json' # Mobile App Pageview JSON file\n",
    "with open(filename, 'w') as file:\n",
    "    json.dump(response_pageviews_ma, file)\n",
    "\n",
    "filename = 'pageviews_mobile-web_200807-201809.json' # Mobile Web Pagecount JSON file\n",
    "with open(filename, 'w') as file:\n",
    "    json.dump(response_pageviews_mw, file)"
   ]
  },
  {
   "cell_type": "markdown",
   "metadata": {},
   "source": [
    "## Data Processing\n",
    "\n",
    "Combine the monthly values for mobile-app and mobile-web to create a total mobile traffic count for each month:"
   ]
  },
  {
   "cell_type": "code",
   "execution_count": 350,
   "metadata": {},
   "outputs": [],
   "source": [
    "data_pagecounts_d = pandas.DataFrame.from_dict(response_pagecounts_d['items']) # DF for Desktop Pagecount\n",
    "data_pagecounts_d['timestamp'] = data_pagecounts_d.timestamp.str[0:6] # Extract year and month from timestamp\n",
    "data_pagecounts_d.rename(columns={'count': 'pagecount_desktop_views'}, inplace=True) # Use final column name\n",
    "\n",
    "data_pagecounts_m = pandas.DataFrame.from_dict(response_pagecounts_m['items']) # DF for Mobile Pagecount\n",
    "data_pagecounts_m['timestamp'] = data_pagecounts_m.timestamp.str[0:6] # Extract year and month from timestamp\n",
    "data_pagecounts_m.rename(columns={'count': 'pagecount_mobile_views'}, inplace=True) # Use final column name\n",
    "\n",
    "data_pageviews_d = pandas.DataFrame.from_dict(response_pageviews_d['items']) # DF for Desktop Pageview\n",
    "data_pageviews_d['timestamp'] = data_pageviews_d.timestamp.str[0:6]   # Extract year and month from timestamp\n",
    "data_pageviews_d.rename(columns={'views': 'pageview_desktop_views'}, inplace=True) # Use final column name\n",
    "\n",
    "data_pageviews_ma = pandas.DataFrame.from_dict(response_pageviews_ma['items']) # DF for Mobile App Pageview\n",
    "data_pageviews_ma['timestamp'] = data_pageviews_ma.timestamp.str[0:6] # Extract year and month from timestamp\n",
    "data_pageviews_ma.rename(columns={'views': 'pageview_mobile-app_views'}, inplace=True) # Use final column name\n",
    "\n",
    "data_pageviews_mw = pandas.DataFrame.from_dict(response_pageviews_mw['items']) # DF for Mobile Web Pagecount\n",
    "data_pageviews_mw['timestamp'] = data_pageviews_mw.timestamp.str[0:6] # Extract year and month from timestamp\n",
    "data_pageviews_mw.rename(columns={'views': 'pageview_mobile-web_views'}, inplace=True) # Use final column name"
   ]
  },
  {
   "cell_type": "markdown",
   "metadata": {},
   "source": [
    "Merge the separate, API response-specific dataframes into one, aligned upon timestamp:"
   ]
  },
  {
   "cell_type": "code",
   "execution_count": 351,
   "metadata": {
    "scrolled": true
   },
   "outputs": [],
   "source": [
    "data_f = data_pagecounts_d[['timestamp','pagecount_desktop_views']]\n",
    "data_f = data_f.merge(data_pagecounts_m[['timestamp','pagecount_mobile_views']], how='outer', on='timestamp')\n",
    "data_f = data_f.merge(data_pageviews_d[['timestamp','pageview_desktop_views']], how='outer', on='timestamp')\n",
    "data_f = data_f.merge(data_pageviews_ma[['timestamp','pageview_mobile-app_views']], how='outer', on='timestamp')\n",
    "data_f = data_f.merge(data_pageviews_mw[['timestamp','pageview_mobile-web_views']], how='outer', on='timestamp')\n",
    "#data_f"
   ]
  },
  {
   "cell_type": "markdown",
   "metadata": {},
   "source": [
    "Combine all data into a single CSV file with the following headers:\n",
    "\n",
    "|Column|Value|\n",
    "|---|---|\n",
    "|year|YYYY|\n",
    "|month|MM|\n",
    "|pagecount_all_views|num_views|\n",
    "|pagecount_desktop_views|num_views|\n",
    "|pagecount_mobile_views|num_views|\n",
    "|pageview_all_views|num_views|\n",
    "|pageview_desktop_views|num_views|\n",
    "|pageview_mobile_views|num_views|"
   ]
  },
  {
   "cell_type": "code",
   "execution_count": 352,
   "metadata": {},
   "outputs": [],
   "source": [
    "data_f_output = pandas.DataFrame({'year':data_f['timestamp'].str[0:4],  # First four char are the year\n",
    "                                  'month':data_f['timestamp'].str[4:6], # Next two are the month\n",
    "                                  'pagecount_all_views':data_f['pagecount_desktop_views']+data_f['pagecount_mobile_views'],\n",
    "                                  'pagecount_desktop_views':data_f['pagecount_desktop_views'], \n",
    "                                  'pagecount_mobile_views':data_f['pagecount_mobile_views'],\n",
    "                                  'pageview_all_views':data_f['pageview_desktop_views']+data_f['pageview_mobile-app_views']+\\\n",
    "                                      data_f['pageview_mobile-web_views'],\n",
    "                                  'pageview_desktop_views':data_f['pageview_desktop_views'],\n",
    "                                  'pageview_mobile_views':data_f['pageview_mobile-app_views']+\\\n",
    "                                      data_f['pageview_mobile-web_views']})"
   ]
  },
  {
   "cell_type": "markdown",
   "metadata": {},
   "source": [
    "Re-order the columns as specified:"
   ]
  },
  {
   "cell_type": "code",
   "execution_count": 353,
   "metadata": {},
   "outputs": [],
   "source": [
    "data_f_output = data_f_output[['year',\n",
    "                               'month',\n",
    "                               'pagecount_all_views',\n",
    "                               'pagecount_desktop_views',\n",
    "                               'pagecount_mobile_views',\n",
    "                               'pageview_all_views',\n",
    "                               'pageview_desktop_views',\n",
    "                               'pageview_mobile_views']]"
   ]
  },
  {
   "cell_type": "markdown",
   "metadata": {},
   "source": [
    "Save to a CSV using the specified filename:"
   ]
  },
  {
   "cell_type": "code",
   "execution_count": 354,
   "metadata": {},
   "outputs": [],
   "source": [
    "filename = 'en-wikipedia_traffic_200712-201809.csv'\n",
    "data_f_output.to_csv(filename, index=False, )  # Make sure the file is closed if it exists or this won't work"
   ]
  },
  {
   "cell_type": "markdown",
   "metadata": {},
   "source": [
    "## Data analysis\n",
    "\n",
    "We will make a time-series plot of the site traffic data, showing mobile, desktop, and all (combined) data.\n",
    "\n",
    "First, extract dates from our specially formatted year and month columns:"
   ]
  },
  {
   "cell_type": "code",
   "execution_count": 355,
   "metadata": {},
   "outputs": [],
   "source": [
    "dates = pandas.to_datetime(data_f_output['year'].astype(str)+data_f_output['month'].astype(str), format='%Y%m')"
   ]
  },
  {
   "cell_type": "markdown",
   "metadata": {},
   "source": [
    "Next, construct the plot using matplotlib.pyplot."
   ]
  },
  {
   "cell_type": "code",
   "execution_count": 356,
   "metadata": {
    "scrolled": true
   },
   "outputs": [
    {
     "data": {
      "text/plain": [
       "<matplotlib.legend.Legend at 0x1f68e744780>"
      ]
     },
     "execution_count": 356,
     "metadata": {},
     "output_type": "execute_result"
    },
    {
     "data": {
      "image/png": "[encoded data removed]",
      "text/plain": [
       "<matplotlib.figure.Figure at 0x1f68e628978>"
      ]
     },
     "metadata": {},
     "output_type": "display_data"
    }
   ],
   "source": [
    "plt.rcParams[\"figure.figsize\"] = (14, 4)\n",
    "\n",
    "# Mimic the style and labels from the target image \n",
    "# https://wiki.communitydata.cc/File:En-wikipedia_traffic_200801-201709_thompson.png\n",
    "plt.grid(True)\n",
    "plt.title('Page Views on English Wikipedia (x 1,000,000)')\n",
    "plt.suptitle('May 2015: a new pageview definition took effect, which eliminated all crawler traffic.'\\\n",
    "             +'Solid lines mark new definition.', y=0.04, color='red');\n",
    "\n",
    "plt.plot(dates, data_f_output['pagecount_desktop_views']/1e6, 'k--') # Divide these by 1e6 to faux-convert to Integer data\n",
    "plt.plot(dates, data_f_output['pagecount_mobile_views']/1e6, 'b--')\n",
    "plt.plot(dates, data_f_output['pagecount_all_views']/1e6, 'g--')\n",
    "\n",
    "plt.plot(dates, data_f_output['pageview_desktop_views']/1e6, 'k-')\n",
    "plt.plot(dates, data_f_output['pageview_mobile_views']/1e6, 'b-')\n",
    "plt.plot(dates, data_f_output['pageview_all_views']/1e6, 'g-')\n",
    "\n",
    "plt.ylim((0,12000))\n",
    "plt.xlim(('2008-01-01','2018-10-18'))\n",
    "\n",
    "plt.legend(['main site','mobile site','total'], loc=2, framealpha=1)\n"
   ]
  }
 ],
 "metadata": {
  "kernelspec": {
   "display_name": "Python 3",
   "language": "python",
   "name": "python3"
  },
  "language_info": {
   "codemirror_mode": {
    "name": "ipython",
    "version": 3
   },
   "file_extension": ".py",
   "mimetype": "text/x-python",
   "name": "python",
   "nbconvert_exporter": "python",
   "pygments_lexer": "ipython3",
   "version": "3.6.4"
  }
 },
 "nbformat": 4,
 "nbformat_minor": 2
}
